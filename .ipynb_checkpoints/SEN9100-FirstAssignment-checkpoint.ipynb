{
 "cells": [
  {
   "cell_type": "code",
   "execution_count": null,
   "id": "3d141e75",
   "metadata": {},
   "outputs": [],
   "source": [
    "import salabim as sim"
   ]
  },
  {
   "cell_type": "code",
   "execution_count": 1,
   "id": "e6786d7b",
   "metadata": {},
   "outputs": [
    {
     "ename": "IndentationError",
     "evalue": "expected an indented block after function definition on line 2 (11813115.py, line 5)",
     "output_type": "error",
     "traceback": [
      "\u001b[1;36m  Cell \u001b[1;32mIn [1], line 5\u001b[1;36m\u001b[0m\n\u001b[1;33m    SIMULATION_DURATION = sim_duration # cannot specify time unit, for now seconds I suppose\u001b[0m\n\u001b[1;37m    ^\u001b[0m\n\u001b[1;31mIndentationError\u001b[0m\u001b[1;31m:\u001b[0m expected an indented block after function definition on line 2\n"
     ]
    }
   ],
   "source": [
    "    #define runtime here\n",
    "def run_simulation(SEED: int, trace=False, sim_duration=10*3600, warmup=3600) -> list: \n",
    "    \n",
    "    #init settings\n",
    "    SIMULATION_DURATION = sim_duration # cannot specify time unit, for now seconds I suppose\n",
    "    WARMUP_DURATION = warmup # sec\n",
    "    \n",
    "    env = sim.Environment(time_unit='seconds', trace=trace, random_seed=SEED)\n",
    "\n",
    "    random_ dist= sim.Uniform(0,1)\n",
    "    \n",
    "    number_people = 100\n",
    "    \n",
    "    number_floors = 4 #including ground floor\n",
    "    \n",
    "    #warmup and cooldown hour from 8-9 and 5-6 (no random movements between floors)\n",
    "    \n",
    "    class Elevator(sim.component):\n",
    "        \n",
    "        capacity = 8\n",
    "        \n",
    "        #boarding time = 2*person_entering (include standard deviation of 0.5 seconds per person)\n",
    "        \n",
    "        #travel time = 2*number_floors\n",
    "        \n",
    "        #check what floor is it on\n",
    "        \n",
    "        #check direction\n",
    "        \n",
    "        #check destination of stop\n",
    "        \n",
    "        #go\n",
    "\n",
    "    class Person(sim.component):\n",
    "        def process(self):\n",
    "            #enter elevator\n",
    "            # enter passenger monitor\n",
    "            self.enter(elevator)\n",
    "            #random choice of floor\n",
    "            \n",
    "            #exit elevator\n",
    "            \n",
    "    #elevator = Elevator        \n",
    "    for i in range (number_people):\n",
    "        #generate 100 people within warmup period of 3600 seconds\n",
    "        sim.ComponentGenerator(Person, 'persongenerator', )\n",
    "        \n",
    "    waiting_time = sim.Resource('waiting time', capacity=1, monitor=False)\n",
    "    queue_length = sim.Resource('queue length', capacity=1, monitor=False)\n",
    "    #person enters ground floor -> action\n",
    "    #random movements\n",
    "    #departure -> leave \n",
    "    \n",
    "    \n",
    "    #monitored = [waiting_time, queue_length]\n",
    "\n",
    "    # do the warmup\n",
    "    env.run(duration=WARMUP_DURATION)\n",
    "\n",
    "    for m in monitored:\n",
    "        m.monitor(True)\n",
    "    env.run(duration=SIMULATION_DURATION)\n",
    "\n",
    "    return {i.name() : i for i in monitored}"
   ]
  },
  {
   "cell_type": "code",
   "execution_count": null,
   "id": "268228fd",
   "metadata": {},
   "outputs": [],
   "source": [
    "if __name__ == \"__main__\":\n",
    "    res = run_simulation(SEED=42, trace=True, sim_duration=8*3600, warmup=3600)\n",
    "    for i in res:\n",
    "        print(\"--------------------------\")\n",
    "        i.print_statistics()"
   ]
  }
 ],
 "metadata": {
  "kernelspec": {
   "display_name": "geo_env",
   "language": "python",
   "name": "geo_env"
  },
  "language_info": {
   "codemirror_mode": {
    "name": "ipython",
    "version": 3
   },
   "file_extension": ".py",
   "mimetype": "text/x-python",
   "name": "python",
   "nbconvert_exporter": "python",
   "pygments_lexer": "ipython3",
   "version": "3.10.6"
  }
 },
 "nbformat": 4,
 "nbformat_minor": 5
}
